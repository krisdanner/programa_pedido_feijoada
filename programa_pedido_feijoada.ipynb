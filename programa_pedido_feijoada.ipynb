{
  "nbformat": 4,
  "nbformat_minor": 0,
  "metadata": {
    "colab": {
      "provenance": [],
      "authorship_tag": "ABX9TyNbj6dtwgNXNDv/Cq1laUSG",
      "include_colab_link": true
    },
    "kernelspec": {
      "name": "python3",
      "display_name": "Python 3"
    },
    "language_info": {
      "name": "python"
    }
  },
  "cells": [
    {
      "cell_type": "markdown",
      "metadata": {
        "id": "view-in-github",
        "colab_type": "text"
      },
      "source": [
        "<a href=\"https://colab.research.google.com/github/krisdanner/programa_pedido_feijoada/blob/main/programa_pedido_feijoada.ipynb\" target=\"_parent\"><img src=\"https://colab.research.google.com/assets/colab-badge.svg\" alt=\"Open In Colab\"/></a>"
      ]
    },
    {
      "cell_type": "code",
      "execution_count": 2,
      "metadata": {
        "colab": {
          "base_uri": "https://localhost:8080/"
        },
        "id": "fCZGwwNpzVEG",
        "outputId": "37e319f5-4c93-45cb-ee70-20cbe67903fb"
      },
      "outputs": [
        {
          "output_type": "stream",
          "name": "stdout",
          "text": [
            "Entre com a quantidade que deseja(ml): 500\n",
            "O valor é: R$ 40.0\n",
            "Entre com a opção de feijoada: \n",
            " b - Básica (Feijão + paiol + costelinha) \n",
            " p - Premium (Feijão + paiol + costelinha + partes de porco) \n",
            " s - Suprema (Feijão + paiol + costelinha + partes de porco + charque + calabresa + bacon) \n",
            "s\n",
            "Multiplicador  = 1.50\n"
          ]
        }
      ],
      "source": [
        "from ast import Continue\n",
        "import sys\n",
        "\n",
        "def volumeFeijoada():\n",
        "  volume = input('Entre com a quantidade que deseja(ml): ')\n",
        "  try:\n",
        "    volume = float(volume)\n",
        "  except ValueError:\n",
        "    print(\"Erro, por favor, informe entrada numérica\")\n",
        "    sys.exit(1)\n",
        "\n",
        "  if 300 <= volume <= 5000:\n",
        "    return print('O valor é: R$', volume*0.08)\n",
        "  elif volume < 300 or volume > 5000:\n",
        "    while volume < 300 or volume > 5000:\n",
        "      print('Não aceitamos porções menores que 300ml ou maiores que 5l. Tente novamente!\\n')\n",
        "      volume = input('Entre com a quantidade que desejada (ml): ')\n",
        "      try:\n",
        "        volume = float(volume)\n",
        "      except ValueError:\n",
        "        print(\"Erro, por favor, informe entrada numérica\")\n",
        "        sys.exit(1)\n",
        "    return print('O valor é: R$', volume*0.08)\n",
        "\n",
        "volumeFeijoada()\n",
        "\n",
        "def opcaoFeijoada():\n",
        "  mult = 0.0\n",
        "  opcao = input('Entre com a opção de feijoada: \\n b - Básica (Feijão + paiol + costelinha) \\n p - Premium (Feijão + paiol + costelinha + partes de porco) \\n s - Suprema (Feijão + paiol + costelinha + partes de porco + charque + calabresa + bacon) \\n')\n",
        "  if opcao == 'b':\n",
        "    mult = 1.00\n",
        "    print('Multiplicador  = 1.00')\n",
        "  elif opcao == 'p':\n",
        "    mult = 1.25\n",
        "    print('Multiplicador  = 1.25')\n",
        "  elif opcao == 's':\n",
        "    mult = 1.50\n",
        "    print('Multiplicador  = 1.50')\n",
        "  else:\n",
        "    print('Você não digitou uma opção válida')\n",
        "\n",
        "\n",
        "\n",
        "\n",
        "\n",
        "opcaoFeijoada()"
      ]
    }
  ]
}